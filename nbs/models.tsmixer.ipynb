{
 "cells": [
  {
   "cell_type": "code",
   "execution_count": null,
   "id": "37e69d53-b725-4117-9757-0ba1aadb3ebf",
   "metadata": {},
   "outputs": [],
   "source": [
    "#| default_exp models.tsmixer"
   ]
  },
  {
   "cell_type": "code",
   "execution_count": null,
   "id": "11dc90c9-551e-41c2-8d53-1af625a2ce79",
   "metadata": {},
   "outputs": [],
   "source": [
    "#| hide\n",
    "%load_ext autoreload\n",
    "%autoreload 2"
   ]
  },
  {
   "cell_type": "markdown",
   "id": "5b2af00a-30d3-45d3-a44b-60ac1f3ecb6b",
   "metadata": {},
   "source": [
    "# TSMixer "
   ]
  },
  {
   "cell_type": "markdown",
   "id": "28645b60-67cb-4e16-b65e-3aab44b01de2",
   "metadata": {},
   "source": [
    "Time-Series Mixer (TSMixer) is a novel architecture specifically designed for multivariate forecasting. It is built by stacking multiple multi-layer perceptrons (MLPs) and it applies mixing operations along both the time and feature dimensions to extract information.\n",
    "\n",
    "This method achieved state-of-the-art results on many popular datasets, like `Electricity Transformer (Etth)`, `Weather` and `Traffic`.\n",
    "\n",
    "**References**<br>\n",
    "-[Si-An Chen, Chun-Liang Li, Nathanel C. Yoder, Sercan Ö. Arik, Tomas Pfister (2023). TSMixer: An All-MLP Architecture for Time Series Forecasting.](https://arxiv.org/pdf/2303.06053.pdf)"
   ]
  },
  {
   "cell_type": "markdown",
   "id": "9fa10885-e1a8-4738-8a8e-2863492cf3fd",
   "metadata": {},
   "source": [
    "![Figure 1. TSMixer.](imgs_models/tsmixer.png)"
   ]
  },
  {
   "cell_type": "code",
   "execution_count": null,
   "id": "b59f701c-f463-425b-b035-def33ac76f75",
   "metadata": {},
   "outputs": [],
   "source": [
    "#| export\n",
    "from typing import Optional\n",
    "\n",
    "import torch\n",
    "import torch.nn as nn\n",
    "\n",
    "from neuralforecast.losses.pytorch import MAE\n",
    "from neuralforecast.common._base_multivariate import BaseMultivariate"
   ]
  },
  {
   "cell_type": "code",
   "execution_count": null,
   "id": "6935ec6b-2862-481a-8cac-f124ecab98c4",
   "metadata": {},
   "outputs": [],
   "source": [
    "#| hide\n",
    "# Testing a single class for time and feature mixing\n",
    "class ResBlock(nn.Module):\n",
    "    def __init__(self, n_series, norm_type, dropout, ff_dim):\n",
    "        super(ResBlock, self).__init__()\n",
    "\n",
    "        # Temporal Linear\n",
    "        self.temporal_linear = nn.Sequential(\n",
    "            nn.BatchNorm2d(n_series),\n",
    "            torch.transpose, # [Batch, Channel, Input Length]\n",
    "            nn.Linear(n_series, n_series),\n",
    "            nn.ReLU(),\n",
    "            inputs.permute(0, 2, 1), # [Batch, Input Length, Channel]\n",
    "            nn.Dropout(dropout)\n",
    "        )\n",
    "\n",
    "        # Feature Linear\n",
    "        self.feature_linear = nn.Sequential(\n",
    "            nn.BatchNorm2d(n_series),\n",
    "            nn.Linear(n_series, ff_dim),\n",
    "            nn.ReLU(),\n",
    "            nn.Dropout(dropout),\n",
    "            nn.Linear(ff_dim, n_series),\n",
    "            nn.Dropout(dropout)\n",
    "        )\n",
    "\n",
    "    def forward(self, inputs):\n",
    "        x = self.temporal_linear(inputs)\n",
    "        res = x + inputs\n",
    "\n",
    "        x = self.feature_linear(res)\n",
    "\n",
    "        return x + res"
   ]
  },
  {
   "cell_type": "code",
   "execution_count": null,
   "id": "4990827a-41bd-4445-96a7-cd207863dc20",
   "metadata": {},
   "outputs": [],
   "source": [
    "#| export\n",
    "\n",
    "class BatchNormalization(nn.Module):\n",
    "    def __init__(self):\n",
    "        super(BatchNormalization, self).__init__()\n",
    "\n",
    "        self.batch_norm = nn.BatchNorm2d(num_features=1)\n",
    "\n",
    "    def forward(self, x):\n",
    "        x = x.unsqueeze(1)\n",
    "        output = self.batch_norm(x)\n",
    "        output = output.squeeze(1)\n",
    "\n",
    "        return output"
   ]
  },
  {
   "cell_type": "code",
   "execution_count": null,
   "id": "c80bc8b7-a1a2-4bba-83d6-c72135078074",
   "metadata": {},
   "outputs": [],
   "source": [
    "#| export\n",
    "\n",
    "class TimeMixingBlock(nn.Module):\n",
    "    def __init__(self, input_size, dropout):\n",
    "        super(TimeMixingBlock, self).__init__()\n",
    "\n",
    "        # self.norm = BatchNormalization()\n",
    "        self.linear = nn.Linear(input_size, input_size)\n",
    "        self.dropout = nn.Dropout(dropout)\n",
    "        self.activation = nn.ReLU()\n",
    "\n",
    "    def forward(self, x):\n",
    "        # y = self.norm(x)\n",
    "        y = torch.permute(x, (0, 2, 1))\n",
    "        y = self.linear(y)\n",
    "        y = self.activation(y)\n",
    "        y = torch.permute(y, (0, 2, 1))\n",
    "        y = self.dropout(y)\n",
    "\n",
    "        return x + y"
   ]
  },
  {
   "cell_type": "code",
   "execution_count": null,
   "id": "b76c7333-64cc-433b-9cd4-a165c21cbbb8",
   "metadata": {},
   "outputs": [],
   "source": [
    "#| export\n",
    "\n",
    "class FeatureMixingBlock(nn.Module):\n",
    "    def __init__(self, input_size, dropout, ff_dim):\n",
    "        super(FeatureMixingBlock, self).__init__()\n",
    "\n",
    "        # self.norm = BatchNormalization()\n",
    "        self.linear1 = nn.Linear(input_size, ff_dim)\n",
    "        self.linear2 = nn.Linear(ff_dim, input_size)\n",
    "        self.dropout = nn.Dropout(dropout)\n",
    "        self.activation = nn.ReLU()\n",
    "\n",
    "    def forward(self, x):\n",
    "        # y = self.norm(x)\n",
    "        y = torch.permute(x, (0, 2, 1))\n",
    "        y = self.linear1(y)\n",
    "        y = self.activation(y)\n",
    "        y = self.dropout(y)\n",
    "        y = self.linear2(y)\n",
    "        y = self.dropout(y)\n",
    "        y = torch.permute(y, (0, 2, 1))\n",
    "\n",
    "        return x + y"
   ]
  },
  {
   "cell_type": "code",
   "execution_count": null,
   "id": "c80b2e14-af68-440e-bb1a-cf9b1bf84c26",
   "metadata": {},
   "outputs": [],
   "source": [
    "#| export\n",
    "class TSMixer(BaseMultivariate):\n",
    "    \"\"\" TSMixer\n",
    "\n",
    "        Time-Series Mixer (TSMixer) is a novel architecture specifically designed for \n",
    "        multivariate forecasting. It is built by stacking multiple multi-layer \n",
    "        perceptrons (MLPs) and it applies mixing operations along both the time and \n",
    "        feature dimensions to extract information.\n",
    "\n",
    "        **Parameters:**<br>\n",
    "        `h`: int, Forecast horizon. <br>\n",
    "        `input_size`: int, autorregresive inputs size, y=[1,2,3,4] input_size=2 -> y_[t-2:t]=[1,2].<br>\n",
    "        `n_series`: int, number of time-series.<br>\n",
    "        `dropout_rate`: float, rate of dropout in the MLP<br>\n",
    "        `n_blocks`: int, number of mixing blocks<br>\n",
    "        `ff_dim`: int, dimensions of the feedforward layer for the feature mixing block<br>\n",
    "        `stat_exog_list`: str list, static exogenous columns.<br>\n",
    "        `hist_exog_list`: str list, historic exogenous columns.<br>\n",
    "        `futr_exog_list`: str list, future exogenous columns.<br>\n",
    "        `n_stacks`: int=2, number of stacks in the model.<br>\n",
    "        `multi_layer`: int=5, multiplier for FC hidden size on StemGNN blocks.<br>\n",
    "        `dropout_rate`: float=0.5, dropout rate.<br>\n",
    "        `leaky_rate`: float=0.2, alpha for LeakyReLU layer on Latent Correlation layer.<br>\n",
    "        `loss`: PyTorch module, instantiated train loss class from [losses collection](https://nixtla.github.io/neuralforecast/losses.pytorch.html).<br>\n",
    "        `valid_loss`: PyTorch module=`loss`, instantiated valid loss class from [losses collection](https://nixtla.github.io/neuralforecast/losses.pytorch.html).<br>\n",
    "        `max_steps`: int=1000, maximum number of training steps.<br>\n",
    "        `learning_rate`: float=1e-3, Learning rate between (0, 1).<br>\n",
    "        `num_lr_decays`: int=-1, Number of learning rate decays, evenly distributed across max_steps.<br>\n",
    "        `early_stop_patience_steps`: int=-1, Number of validation iterations before early stopping.<br>\n",
    "        `val_check_steps`: int=100, Number of training steps between every validation loss check.<br>\n",
    "        `batch_size`: int, number of windows in each batch.<br>\n",
    "        `step_size`: int=1, step size between each window of temporal data.<br>\n",
    "        `scaler_type`: str='robust', type of scaler for temporal inputs normalization see [temporal scalers](https://nixtla.github.io/neuralforecast/common.scalers.html).<br>\n",
    "        `random_seed`: int, random_seed for pytorch initializer and numpy generators.<br>\n",
    "        `num_workers_loader`: int=os.cpu_count(), workers to be used by `TimeSeriesDataLoader`.<br>\n",
    "        `drop_last_loader`: bool=False, if True `TimeSeriesDataLoader` drops last non-full batch.<br>\n",
    "        `alias`: str, optional,  Custom name of the model.<br>\n",
    "        `**trainer_kwargs`: int,  keyword trainer arguments inherited from [PyTorch Lighning's trainer](https://pytorch-lightning.readthedocs.io/en/stable/api/pytorch_lightning.trainer.trainer.Trainer.html?highlight=trainer).<br>\n",
    "    \n",
    "    \"\"\"\n",
    "    # Class attributes\n",
    "    SAMPLING_TYPE = 'multivariate'\n",
    "    \n",
    "    def __init__(self,\n",
    "                h,\n",
    "                input_size,\n",
    "                n_series,\n",
    "                dropout_rate=0.7,\n",
    "                n_blocks=2,\n",
    "                ff_dim=64,\n",
    "                loss=MAE(),\n",
    "                valid_loss=None,\n",
    "                learning_rate=1e-3,\n",
    "                max_steps=1000,\n",
    "                val_check_steps=100,\n",
    "                batch_size=32,\n",
    "                step_size=1,\n",
    "                num_lr_decays=0,\n",
    "                early_stop_patience_steps=-1,\n",
    "                scaler_type=\"robust\",\n",
    "                futr_exog_list=None,\n",
    "                hist_exog_list=None,\n",
    "                stat_exog_list=None,\n",
    "                num_workers_loader=0,\n",
    "                drop_last_loader=False,\n",
    "                random_seed=1,\n",
    "                alias=None,\n",
    "                **trainer_kwargs,):\n",
    "        \n",
    "        super(TSMixer, self).__init__(h=h,\n",
    "                                      input_size=input_size,\n",
    "                                      n_series=n_series,\n",
    "                                      loss=loss,\n",
    "                                      valid_loss=valid_loss,\n",
    "                                      learning_rate=learning_rate,\n",
    "                                      max_steps=max_steps,\n",
    "                                      val_check_steps=val_check_steps,\n",
    "                                      batch_size=batch_size,\n",
    "                                      step_size=step_size,\n",
    "                                      num_lr_decays=num_lr_decays,\n",
    "                                      early_stop_patience_steps=early_stop_patience_steps,\n",
    "                                      scaler_type=scaler_type,\n",
    "                                      futr_exog_list=futr_exog_list,\n",
    "                                      hist_exog_list=hist_exog_list,\n",
    "                                      stat_exog_list=stat_exog_list,\n",
    "                                      num_workers_loader=num_workers_loader,\n",
    "                                      drop_last_loader=drop_last_loader,\n",
    "                                      random_seed=random_seed,\n",
    "                                      alias=alias,\n",
    "                                      **trainer_kwargs,)\n",
    "       \n",
    "        self.dropout_rate = dropout_rate\n",
    "        self.n_blocks = n_blocks\n",
    "        self.ff_dim = ff_dim\n",
    "        \n",
    "        # Architecture\n",
    "        self.time_mixing = TimeMixingBlock(input_size, self.dropout_rate)\n",
    "        self.feature_mixing = FeatureMixingBlock(input_size, self.dropout_rate, self.ff_dim)\n",
    "        self.linear = nn.Linear(input_size, h)\n",
    "\n",
    "    def forward(self, windows_batch):\n",
    "        # Parse batch\n",
    "        insample_y    = windows_batch['insample_y']\n",
    "\n",
    "        y = insample_y.clone()\n",
    "        for _ in range(self.n_blocks):\n",
    "            y = self.time_mixing(y)\n",
    "            y = self.feature_mixing(y)\n",
    "        y = torch.permute(y, (0, 2, 1))\n",
    "        y = self.linear(y)\n",
    "        y = torch.permute(y, (0, 2, 1))\n",
    "        \n",
    "        # y_pred = y.reshape(self.batch_size, self.h, self.loss.outputsize_multiplier)\n",
    "        y_pred = self.loss.domain_map(y)\n",
    "    \n",
    "        return y_pred"
   ]
  },
  {
   "cell_type": "code",
   "execution_count": null,
   "id": "275c6a50-16d0-404c-98f7-93f5e383ccde",
   "metadata": {},
   "outputs": [
    {
     "data": {
      "text/markdown": [
       "---\n",
       "\n",
       "[source](https://github.com/Nixtla/neuralforecast/blob/main/neuralforecast/models/tsmixer.py#L73){target=\"_blank\" style=\"float:right; font-size:smaller\"}\n",
       "\n",
       "### TSMixer\n",
       "\n",
       ">      TSMixer (h, input_size, n_series, dropout_rate=0.7, n_blocks=2,\n",
       ">               ff_dim=64, loss=MAE(), valid_loss=None, learning_rate=0.001,\n",
       ">               max_steps=1000, val_check_steps=100, batch_size=32, step_size=1,\n",
       ">               num_lr_decays=0, early_stop_patience_steps=-1,\n",
       ">               scaler_type='robust', futr_exog_list=None, hist_exog_list=None,\n",
       ">               stat_exog_list=None, num_workers_loader=0,\n",
       ">               drop_last_loader=False, random_seed=1, alias=None,\n",
       ">               **trainer_kwargs)\n",
       "\n",
       "TSMixer\n",
       "\n",
       "Time-Series Mixer (TSMixer) is a novel architecture specifically designed for \n",
       "multivariate forecasting. It is built by stacking multiple multi-layer \n",
       "perceptrons (MLPs) and it applies mixing operations along both the time and \n",
       "feature dimensions to extract information.\n",
       "\n",
       "**Parameters:**<br>\n",
       "`h`: int, Forecast horizon. <br>\n",
       "`input_size`: int, autorregresive inputs size, y=[1,2,3,4] input_size=2 -> y_[t-2:t]=[1,2].<br>\n",
       "`n_series`: int, number of time-series.<br>\n",
       "`dropout_rate`: float, rate of dropout in the MLP<br>\n",
       "`n_blocks`: int, number of mixing blocks<br>\n",
       "`ff_dim`: int, dimensions of the feedforward layer for the feature mixing block<br>\n",
       "`stat_exog_list`: str list, static exogenous columns.<br>\n",
       "`hist_exog_list`: str list, historic exogenous columns.<br>\n",
       "`futr_exog_list`: str list, future exogenous columns.<br>\n",
       "`n_stacks`: int=2, number of stacks in the model.<br>\n",
       "`multi_layer`: int=5, multiplier for FC hidden size on StemGNN blocks.<br>\n",
       "`dropout_rate`: float=0.5, dropout rate.<br>\n",
       "`leaky_rate`: float=0.2, alpha for LeakyReLU layer on Latent Correlation layer.<br>\n",
       "`loss`: PyTorch module, instantiated train loss class from [losses collection](https://nixtla.github.io/neuralforecast/losses.pytorch.html).<br>\n",
       "`valid_loss`: PyTorch module=`loss`, instantiated valid loss class from [losses collection](https://nixtla.github.io/neuralforecast/losses.pytorch.html).<br>\n",
       "`max_steps`: int=1000, maximum number of training steps.<br>\n",
       "`learning_rate`: float=1e-3, Learning rate between (0, 1).<br>\n",
       "`num_lr_decays`: int=-1, Number of learning rate decays, evenly distributed across max_steps.<br>\n",
       "`early_stop_patience_steps`: int=-1, Number of validation iterations before early stopping.<br>\n",
       "`val_check_steps`: int=100, Number of training steps between every validation loss check.<br>\n",
       "`batch_size`: int, number of windows in each batch.<br>\n",
       "`step_size`: int=1, step size between each window of temporal data.<br>\n",
       "`scaler_type`: str='robust', type of scaler for temporal inputs normalization see [temporal scalers](https://nixtla.github.io/neuralforecast/common.scalers.html).<br>\n",
       "`random_seed`: int, random_seed for pytorch initializer and numpy generators.<br>\n",
       "`num_workers_loader`: int=os.cpu_count(), workers to be used by `TimeSeriesDataLoader`.<br>\n",
       "`drop_last_loader`: bool=False, if True `TimeSeriesDataLoader` drops last non-full batch.<br>\n",
       "`alias`: str, optional,  Custom name of the model.<br>\n",
       "`**trainer_kwargs`: int,  keyword trainer arguments inherited from [PyTorch Lighning's trainer](https://pytorch-lightning.readthedocs.io/en/stable/api/pytorch_lightning.trainer.trainer.Trainer.html?highlight=trainer).<br>"
      ],
      "text/plain": [
       "---\n",
       "\n",
       "[source](https://github.com/Nixtla/neuralforecast/blob/main/neuralforecast/models/tsmixer.py#L73){target=\"_blank\" style=\"float:right; font-size:smaller\"}\n",
       "\n",
       "### TSMixer\n",
       "\n",
       ">      TSMixer (h, input_size, n_series, dropout_rate=0.7, n_blocks=2,\n",
       ">               ff_dim=64, loss=MAE(), valid_loss=None, learning_rate=0.001,\n",
       ">               max_steps=1000, val_check_steps=100, batch_size=32, step_size=1,\n",
       ">               num_lr_decays=0, early_stop_patience_steps=-1,\n",
       ">               scaler_type='robust', futr_exog_list=None, hist_exog_list=None,\n",
       ">               stat_exog_list=None, num_workers_loader=0,\n",
       ">               drop_last_loader=False, random_seed=1, alias=None,\n",
       ">               **trainer_kwargs)\n",
       "\n",
       "TSMixer\n",
       "\n",
       "Time-Series Mixer (TSMixer) is a novel architecture specifically designed for \n",
       "multivariate forecasting. It is built by stacking multiple multi-layer \n",
       "perceptrons (MLPs) and it applies mixing operations along both the time and \n",
       "feature dimensions to extract information.\n",
       "\n",
       "**Parameters:**<br>\n",
       "`h`: int, Forecast horizon. <br>\n",
       "`input_size`: int, autorregresive inputs size, y=[1,2,3,4] input_size=2 -> y_[t-2:t]=[1,2].<br>\n",
       "`n_series`: int, number of time-series.<br>\n",
       "`dropout_rate`: float, rate of dropout in the MLP<br>\n",
       "`n_blocks`: int, number of mixing blocks<br>\n",
       "`ff_dim`: int, dimensions of the feedforward layer for the feature mixing block<br>\n",
       "`stat_exog_list`: str list, static exogenous columns.<br>\n",
       "`hist_exog_list`: str list, historic exogenous columns.<br>\n",
       "`futr_exog_list`: str list, future exogenous columns.<br>\n",
       "`n_stacks`: int=2, number of stacks in the model.<br>\n",
       "`multi_layer`: int=5, multiplier for FC hidden size on StemGNN blocks.<br>\n",
       "`dropout_rate`: float=0.5, dropout rate.<br>\n",
       "`leaky_rate`: float=0.2, alpha for LeakyReLU layer on Latent Correlation layer.<br>\n",
       "`loss`: PyTorch module, instantiated train loss class from [losses collection](https://nixtla.github.io/neuralforecast/losses.pytorch.html).<br>\n",
       "`valid_loss`: PyTorch module=`loss`, instantiated valid loss class from [losses collection](https://nixtla.github.io/neuralforecast/losses.pytorch.html).<br>\n",
       "`max_steps`: int=1000, maximum number of training steps.<br>\n",
       "`learning_rate`: float=1e-3, Learning rate between (0, 1).<br>\n",
       "`num_lr_decays`: int=-1, Number of learning rate decays, evenly distributed across max_steps.<br>\n",
       "`early_stop_patience_steps`: int=-1, Number of validation iterations before early stopping.<br>\n",
       "`val_check_steps`: int=100, Number of training steps between every validation loss check.<br>\n",
       "`batch_size`: int, number of windows in each batch.<br>\n",
       "`step_size`: int=1, step size between each window of temporal data.<br>\n",
       "`scaler_type`: str='robust', type of scaler for temporal inputs normalization see [temporal scalers](https://nixtla.github.io/neuralforecast/common.scalers.html).<br>\n",
       "`random_seed`: int, random_seed for pytorch initializer and numpy generators.<br>\n",
       "`num_workers_loader`: int=os.cpu_count(), workers to be used by `TimeSeriesDataLoader`.<br>\n",
       "`drop_last_loader`: bool=False, if True `TimeSeriesDataLoader` drops last non-full batch.<br>\n",
       "`alias`: str, optional,  Custom name of the model.<br>\n",
       "`**trainer_kwargs`: int,  keyword trainer arguments inherited from [PyTorch Lighning's trainer](https://pytorch-lightning.readthedocs.io/en/stable/api/pytorch_lightning.trainer.trainer.Trainer.html?highlight=trainer).<br>"
      ]
     },
     "execution_count": null,
     "metadata": {},
     "output_type": "execute_result"
    }
   ],
   "source": [
    "#| hide\n",
    "from nbdev.showdoc import show_doc\n",
    "\n",
    "show_doc(TSMixer)"
   ]
  },
  {
   "cell_type": "code",
   "execution_count": null,
   "id": "d4251e48-95a4-4dfd-9e86-25b431ccaa23",
   "metadata": {},
   "outputs": [],
   "source": [
    "#| hide\n",
    "import logging\n",
    "import warnings\n",
    "logging.getLogger(\"pytorch_lightning\").setLevel(logging.ERROR)\n",
    "warnings.filterwarnings('ignore')"
   ]
  },
  {
   "cell_type": "code",
   "execution_count": null,
   "id": "65c28fb8-13bf-4ffa-ab22-0414d0970bc1",
   "metadata": {},
   "outputs": [
    {
     "name": "stderr",
     "output_type": "stream",
     "text": [
      "Seed set to 1\n"
     ]
    },
    {
     "data": {
      "application/vnd.jupyter.widget-view+json": {
       "model_id": "",
       "version_major": 2,
       "version_minor": 0
      },
      "text/plain": [
       "Sanity Checking: |                                                                               | 0/? [00:00<…"
      ]
     },
     "metadata": {},
     "output_type": "display_data"
    },
    {
     "data": {
      "application/vnd.jupyter.widget-view+json": {
       "model_id": "45c2f04d39ba4a088ce13c2b1b3306f1",
       "version_major": 2,
       "version_minor": 0
      },
      "text/plain": [
       "Training: |                                                                                      | 0/? [00:00<…"
      ]
     },
     "metadata": {},
     "output_type": "display_data"
    },
    {
     "data": {
      "application/vnd.jupyter.widget-view+json": {
       "model_id": "",
       "version_major": 2,
       "version_minor": 0
      },
      "text/plain": [
       "Validation: |                                                                                    | 0/? [00:00<…"
      ]
     },
     "metadata": {},
     "output_type": "display_data"
    },
    {
     "data": {
      "application/vnd.jupyter.widget-view+json": {
       "model_id": "",
       "version_major": 2,
       "version_minor": 0
      },
      "text/plain": [
       "Validation: |                                                                                    | 0/? [00:00<…"
      ]
     },
     "metadata": {},
     "output_type": "display_data"
    },
    {
     "data": {
      "application/vnd.jupyter.widget-view+json": {
       "model_id": "",
       "version_major": 2,
       "version_minor": 0
      },
      "text/plain": [
       "Validation: |                                                                                    | 0/? [00:00<…"
      ]
     },
     "metadata": {},
     "output_type": "display_data"
    },
    {
     "data": {
      "application/vnd.jupyter.widget-view+json": {
       "model_id": "c319faf8ef564d399d06c67cb34f11e4",
       "version_major": 2,
       "version_minor": 0
      },
      "text/plain": [
       "Predicting: |                                                                                    | 0/? [00:00<…"
      ]
     },
     "metadata": {},
     "output_type": "display_data"
    }
   ],
   "source": [
    "#| hide\n",
    "# test performance fit/predict method\n",
    "import numpy as np\n",
    "import pandas as pd\n",
    "import matplotlib.pyplot as plt\n",
    "\n",
    "from neuralforecast import NeuralForecast\n",
    "from neuralforecast.utils import AirPassengersPanel, AirPassengersStatic\n",
    "from neuralforecast.losses.pytorch import MAE\n",
    "\n",
    "Y_train_df = AirPassengersPanel[AirPassengersPanel.ds<AirPassengersPanel['ds'].values[-12]].reset_index(drop=True) # 132 train\n",
    "Y_test_df = AirPassengersPanel[AirPassengersPanel.ds>=AirPassengersPanel['ds'].values[-12]].reset_index(drop=True) # 12 test\n",
    "\n",
    "model = TSMixer(h=12,\n",
    "                input_size=24,\n",
    "                n_series=2,\n",
    "                stat_exog_list=['airline1'],\n",
    "                futr_exog_list=['trend'],\n",
    "                scaler_type='robust',\n",
    "                max_steps=30,\n",
    "                early_stop_patience_steps=3,\n",
    "                val_check_steps=10,\n",
    "                learning_rate=1e-3,\n",
    "                loss=MAE(),\n",
    "                valid_loss=None,\n",
    "                batch_size=32\n",
    "                )\n",
    "\n",
    "fcst = NeuralForecast(models=[model], freq='M')\n",
    "fcst.fit(df=Y_train_df, static_df=AirPassengersStatic, val_size=12)\n",
    "forecasts = fcst.predict(futr_df=Y_test_df)"
   ]
  },
  {
   "cell_type": "code",
   "execution_count": null,
   "id": "1d2b647a-a1c3-46b0-ae87-0b56ef11bab6",
   "metadata": {},
   "outputs": [
    {
     "data": {
      "image/png": "[encoded data removed]",
      "text/plain": [
       "<Figure size 640x480 with 1 Axes>"
      ]
     },
     "metadata": {},
     "output_type": "display_data"
    }
   ],
   "source": [
    "#| hide\n",
    "# Plot predictions\n",
    "\n",
    "Y_hat_df = forecasts.reset_index(drop=False).drop(columns=['unique_id','ds'])\n",
    "plot_df = pd.concat([Y_test_df, Y_hat_df], axis=1)\n",
    "plot_df = pd.concat([Y_train_df, plot_df])\n",
    "\n",
    "plot_df = plot_df[plot_df.unique_id=='Airline1'].drop('unique_id', axis=1)\n",
    "plt.plot(plot_df['ds'], plot_df['y'], c='black', label='True')\n",
    "plt.plot(plot_df['ds'], plot_df['TSMixer'], c='blue', label='Forecast')\n",
    "plt.legend()\n",
    "plt.grid()"
   ]
  },
  {
   "cell_type": "code",
   "execution_count": null,
   "id": "b7cf34e4-9d61-44f4-81a8-8b73bc94edc1",
   "metadata": {},
   "outputs": [],
   "source": []
  }
 ],
 "metadata": {
  "kernelspec": {
   "display_name": "python3",
   "language": "python",
   "name": "python3"
  }
 },
 "nbformat": 4,
 "nbformat_minor": 5
}
